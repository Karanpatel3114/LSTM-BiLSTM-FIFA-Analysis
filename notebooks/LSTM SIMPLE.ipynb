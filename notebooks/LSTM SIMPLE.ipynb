{
  "cells": [
    {
      "cell_type": "code",
      "source": [
        "import pandas as pd\n",
        "import numpy as np\n",
        "from sklearn.preprocessing import MinMaxScaler\n",
        "from tensorflow.keras.models import Sequential\n",
        "from tensorflow.keras.layers import LSTM, Dense\n",
        "from tensorflow.keras.optimizers import Adam\n",
        "from sklearn.model_selection import train_test_split"
      ],
      "metadata": {
        "id": "e4WP3PcOH5z0"
      },
      "execution_count": null,
      "outputs": []
    },
    {
      "cell_type": "code",
      "source": [
        "from google.colab import files\n",
        "\n",
        "# You might want to upload the files using the Colab interface first.\n",
        "# Click on the \"Files\" icon on the left sidebar and then \"Upload\".\n",
        "\n",
        "all_data = []\n",
        "for i in range(15, 22):\n",
        "    file_name = f\"players_{i}.csv\"\n",
        "    try:\n",
        "        df = pd.read_csv(file_name)\n",
        "        # Select the feature you want to predict (change 'overall' if needed)\n",
        "        data = df[['overall']].values\n",
        "        all_data.append(data)\n",
        "        print(f\"Loaded and processed {file_name}\")\n",
        "    except FileNotFoundError:\n",
        "        print(f\"Error: File not found: {file_name}. Make sure you have uploaded it.\")\n",
        "\n",
        "# Combine all the data into a single array\n",
        "all_data = np.concatenate(all_data, axis=0)\n",
        "\n",
        "# Scale the data\n",
        "scaler = MinMaxScaler()\n",
        "scaled_data = scaler.fit_transform(all_data)\n",
        "\n",
        "print(\"Data loading and preprocessing complete.\")"
      ],
      "metadata": {
        "id": "1IcIl5IiITUk",
        "outputId": "33c5cf1c-6c2b-4274-b8b9-5f5ee166234b",
        "colab": {
          "base_uri": "https://localhost:8080/"
        }
      },
      "execution_count": null,
      "outputs": [
        {
          "output_type": "stream",
          "name": "stdout",
          "text": [
            "Loaded and processed players_15.csv\n",
            "Loaded and processed players_16.csv\n",
            "Loaded and processed players_17.csv\n",
            "Loaded and processed players_18.csv\n",
            "Loaded and processed players_19.csv\n",
            "Loaded and processed players_20.csv\n",
            "Loaded and processed players_21.csv\n",
            "Data loading and preprocessing complete.\n"
          ]
        }
      ]
    },
    {
      "cell_type": "code",
      "source": [
        "def create_sequences(data, sequence_length):\n",
        "    X = []\n",
        "    y = []\n",
        "    for i in range(len(data) - sequence_length):\n",
        "        X.append(data[i:(i + sequence_length)])\n",
        "        y.append(data[i + sequence_length])\n",
        "    return np.array(X), np.array(y)\n",
        "\n",
        "sequence_length = 50\n",
        "X, y = create_sequences(scaled_data, sequence_length)\n",
        "\n",
        "# Split data into training and testing sets\n",
        "X_train, X_test, y_train, y_test = train_test_split(X, y, test_size=0.2, random_state=42, shuffle=False)\n",
        "\n",
        "print(f\"Shape of training sequences (X_train): {X_train.shape}\")\n",
        "print(f\"Shape of training targets (y_train): {y_train.shape}\")\n",
        "print(f\"Shape of testing sequences (X_test): {X_test.shape}\")\n",
        "print(f\"Shape of testing targets (y_test): {y_test.shape}\")"
      ],
      "metadata": {
        "id": "TpkrZlu3I3Ss",
        "outputId": "504cb0e0-63df-44e1-e0a6-9ffd453ff4bb",
        "colab": {
          "base_uri": "https://localhost:8080/"
        }
      },
      "execution_count": null,
      "outputs": [
        {
          "output_type": "stream",
          "name": "stdout",
          "text": [
            "Shape of training sequences (X_train): (98232, 50, 1)\n",
            "Shape of training targets (y_train): (98232, 1)\n",
            "Shape of testing sequences (X_test): (24559, 50, 1)\n",
            "Shape of testing targets (y_test): (24559, 1)\n"
          ]
        }
      ]
    },
    {
      "cell_type": "code",
      "source": [
        "model = Sequential()\n",
        "\n",
        "# First LSTM layer\n",
        "model.add(LSTM(units=50, return_sequences=True, input_shape=(X_train.shape[1], 1)))\n",
        "\n",
        "# Second LSTM layer\n",
        "model.add(LSTM(units=50, return_sequences=False))\n",
        "\n",
        "# Output layer\n",
        "model.add(Dense(units=1))\n",
        "\n",
        "# Compile the model\n",
        "model.compile(optimizer='adam', loss='mean_squared_error')\n",
        "\n",
        "model.summary()"
      ],
      "metadata": {
        "id": "Q7w50S_1I6t9",
        "outputId": "57801ed4-4e66-4d51-f0f3-b1921cc9e738",
        "colab": {
          "base_uri": "https://localhost:8080/",
          "height": 279
        }
      },
      "execution_count": null,
      "outputs": [
        {
          "output_type": "stream",
          "name": "stderr",
          "text": [
            "/usr/local/lib/python3.11/dist-packages/keras/src/layers/rnn/rnn.py:200: UserWarning: Do not pass an `input_shape`/`input_dim` argument to a layer. When using Sequential models, prefer using an `Input(shape)` object as the first layer in the model instead.\n",
            "  super().__init__(**kwargs)\n"
          ]
        },
        {
          "output_type": "display_data",
          "data": {
            "text/plain": [
              "\u001b[1mModel: \"sequential\"\u001b[0m\n"
            ],
            "text/html": [
              "<pre style=\"white-space:pre;overflow-x:auto;line-height:normal;font-family:Menlo,'DejaVu Sans Mono',consolas,'Courier New',monospace\"><span style=\"font-weight: bold\">Model: \"sequential\"</span>\n",
              "</pre>\n"
            ]
          },
          "metadata": {}
        },
        {
          "output_type": "display_data",
          "data": {
            "text/plain": [
              "┏━━━━━━━━━━━━━━━━━━━━━━━━━━━━━━━━━┳━━━━━━━━━━━━━━━━━━━━━━━━┳━━━━━━━━━━━━━━━┓\n",
              "┃\u001b[1m \u001b[0m\u001b[1mLayer (type)                   \u001b[0m\u001b[1m \u001b[0m┃\u001b[1m \u001b[0m\u001b[1mOutput Shape          \u001b[0m\u001b[1m \u001b[0m┃\u001b[1m \u001b[0m\u001b[1m      Param #\u001b[0m\u001b[1m \u001b[0m┃\n",
              "┡━━━━━━━━━━━━━━━━━━━━━━━━━━━━━━━━━╇━━━━━━━━━━━━━━━━━━━━━━━━╇━━━━━━━━━━━━━━━┩\n",
              "│ lstm (\u001b[38;5;33mLSTM\u001b[0m)                     │ (\u001b[38;5;45mNone\u001b[0m, \u001b[38;5;34m50\u001b[0m, \u001b[38;5;34m50\u001b[0m)         │        \u001b[38;5;34m10,400\u001b[0m │\n",
              "├─────────────────────────────────┼────────────────────────┼───────────────┤\n",
              "│ lstm_1 (\u001b[38;5;33mLSTM\u001b[0m)                   │ (\u001b[38;5;45mNone\u001b[0m, \u001b[38;5;34m50\u001b[0m)             │        \u001b[38;5;34m20,200\u001b[0m │\n",
              "├─────────────────────────────────┼────────────────────────┼───────────────┤\n",
              "│ dense (\u001b[38;5;33mDense\u001b[0m)                   │ (\u001b[38;5;45mNone\u001b[0m, \u001b[38;5;34m1\u001b[0m)              │            \u001b[38;5;34m51\u001b[0m │\n",
              "└─────────────────────────────────┴────────────────────────┴───────────────┘\n"
            ],
            "text/html": [
              "<pre style=\"white-space:pre;overflow-x:auto;line-height:normal;font-family:Menlo,'DejaVu Sans Mono',consolas,'Courier New',monospace\">┏━━━━━━━━━━━━━━━━━━━━━━━━━━━━━━━━━┳━━━━━━━━━━━━━━━━━━━━━━━━┳━━━━━━━━━━━━━━━┓\n",
              "┃<span style=\"font-weight: bold\"> Layer (type)                    </span>┃<span style=\"font-weight: bold\"> Output Shape           </span>┃<span style=\"font-weight: bold\">       Param # </span>┃\n",
              "┡━━━━━━━━━━━━━━━━━━━━━━━━━━━━━━━━━╇━━━━━━━━━━━━━━━━━━━━━━━━╇━━━━━━━━━━━━━━━┩\n",
              "│ lstm (<span style=\"color: #0087ff; text-decoration-color: #0087ff\">LSTM</span>)                     │ (<span style=\"color: #00d7ff; text-decoration-color: #00d7ff\">None</span>, <span style=\"color: #00af00; text-decoration-color: #00af00\">50</span>, <span style=\"color: #00af00; text-decoration-color: #00af00\">50</span>)         │        <span style=\"color: #00af00; text-decoration-color: #00af00\">10,400</span> │\n",
              "├─────────────────────────────────┼────────────────────────┼───────────────┤\n",
              "│ lstm_1 (<span style=\"color: #0087ff; text-decoration-color: #0087ff\">LSTM</span>)                   │ (<span style=\"color: #00d7ff; text-decoration-color: #00d7ff\">None</span>, <span style=\"color: #00af00; text-decoration-color: #00af00\">50</span>)             │        <span style=\"color: #00af00; text-decoration-color: #00af00\">20,200</span> │\n",
              "├─────────────────────────────────┼────────────────────────┼───────────────┤\n",
              "│ dense (<span style=\"color: #0087ff; text-decoration-color: #0087ff\">Dense</span>)                   │ (<span style=\"color: #00d7ff; text-decoration-color: #00d7ff\">None</span>, <span style=\"color: #00af00; text-decoration-color: #00af00\">1</span>)              │            <span style=\"color: #00af00; text-decoration-color: #00af00\">51</span> │\n",
              "└─────────────────────────────────┴────────────────────────┴───────────────┘\n",
              "</pre>\n"
            ]
          },
          "metadata": {}
        },
        {
          "output_type": "display_data",
          "data": {
            "text/plain": [
              "\u001b[1m Total params: \u001b[0m\u001b[38;5;34m30,651\u001b[0m (119.73 KB)\n"
            ],
            "text/html": [
              "<pre style=\"white-space:pre;overflow-x:auto;line-height:normal;font-family:Menlo,'DejaVu Sans Mono',consolas,'Courier New',monospace\"><span style=\"font-weight: bold\"> Total params: </span><span style=\"color: #00af00; text-decoration-color: #00af00\">30,651</span> (119.73 KB)\n",
              "</pre>\n"
            ]
          },
          "metadata": {}
        },
        {
          "output_type": "display_data",
          "data": {
            "text/plain": [
              "\u001b[1m Trainable params: \u001b[0m\u001b[38;5;34m30,651\u001b[0m (119.73 KB)\n"
            ],
            "text/html": [
              "<pre style=\"white-space:pre;overflow-x:auto;line-height:normal;font-family:Menlo,'DejaVu Sans Mono',consolas,'Courier New',monospace\"><span style=\"font-weight: bold\"> Trainable params: </span><span style=\"color: #00af00; text-decoration-color: #00af00\">30,651</span> (119.73 KB)\n",
              "</pre>\n"
            ]
          },
          "metadata": {}
        },
        {
          "output_type": "display_data",
          "data": {
            "text/plain": [
              "\u001b[1m Non-trainable params: \u001b[0m\u001b[38;5;34m0\u001b[0m (0.00 B)\n"
            ],
            "text/html": [
              "<pre style=\"white-space:pre;overflow-x:auto;line-height:normal;font-family:Menlo,'DejaVu Sans Mono',consolas,'Courier New',monospace\"><span style=\"font-weight: bold\"> Non-trainable params: </span><span style=\"color: #00af00; text-decoration-color: #00af00\">0</span> (0.00 B)\n",
              "</pre>\n"
            ]
          },
          "metadata": {}
        }
      ]
    },
    {
      "cell_type": "code",
      "source": [
        "epochs = 100\n",
        "batch_size = 32  # You can adjust this\n",
        "\n",
        "history = model.fit(X_train, y_train, epochs=epochs, batch_size=batch_size, validation_split=0.1, verbose=1)\n",
        "\n",
        "print(\"Model training complete.\")"
      ],
      "metadata": {
        "id": "ib1WokVmI-U2",
        "outputId": "29e0efe9-f5a1-40b9-9b87-9a6a29c1fc94",
        "colab": {
          "base_uri": "https://localhost:8080/"
        }
      },
      "execution_count": null,
      "outputs": [
        {
          "output_type": "stream",
          "name": "stdout",
          "text": [
            "Epoch 1/100\n",
            "\u001b[1m2763/2763\u001b[0m \u001b[32m━━━━━━━━━━━━━━━━━━━━\u001b[0m\u001b[37m\u001b[0m \u001b[1m137s\u001b[0m 48ms/step - loss: 0.0035 - val_loss: 8.2288e-06\n",
            "Epoch 2/100\n",
            "\u001b[1m2763/2763\u001b[0m \u001b[32m━━━━━━━━━━━━━━━━━━━━\u001b[0m\u001b[37m\u001b[0m \u001b[1m143s\u001b[0m 49ms/step - loss: 1.3710e-04 - val_loss: 6.0061e-07\n",
            "Epoch 3/100\n",
            "\u001b[1m2763/2763\u001b[0m \u001b[32m━━━━━━━━━━━━━━━━━━━━\u001b[0m\u001b[37m\u001b[0m \u001b[1m139s\u001b[0m 47ms/step - loss: 5.9432e-05 - val_loss: 5.3879e-05\n",
            "Epoch 4/100\n",
            "\u001b[1m2763/2763\u001b[0m \u001b[32m━━━━━━━━━━━━━━━━━━━━\u001b[0m\u001b[37m\u001b[0m \u001b[1m142s\u001b[0m 47ms/step - loss: 6.4860e-05 - val_loss: 6.3923e-07\n",
            "Epoch 5/100\n",
            "\u001b[1m2763/2763\u001b[0m \u001b[32m━━━━━━━━━━━━━━━━━━━━\u001b[0m\u001b[37m\u001b[0m \u001b[1m132s\u001b[0m 48ms/step - loss: 7.2847e-05 - val_loss: 1.4671e-06\n",
            "Epoch 6/100\n",
            "\u001b[1m2763/2763\u001b[0m \u001b[32m━━━━━━━━━━━━━━━━━━━━\u001b[0m\u001b[37m\u001b[0m \u001b[1m146s\u001b[0m 49ms/step - loss: 7.6661e-05 - val_loss: 5.4399e-07\n",
            "Epoch 7/100\n",
            "\u001b[1m2763/2763\u001b[0m \u001b[32m━━━━━━━━━━━━━━━━━━━━\u001b[0m\u001b[37m\u001b[0m \u001b[1m136s\u001b[0m 47ms/step - loss: 3.4237e-05 - val_loss: 4.1907e-07\n",
            "Epoch 8/100\n",
            "\u001b[1m2763/2763\u001b[0m \u001b[32m━━━━━━━━━━━━━━━━━━━━\u001b[0m\u001b[37m\u001b[0m \u001b[1m142s\u001b[0m 47ms/step - loss: 8.5599e-05 - val_loss: 5.4329e-07\n",
            "Epoch 9/100\n",
            "\u001b[1m2763/2763\u001b[0m \u001b[32m━━━━━━━━━━━━━━━━━━━━\u001b[0m\u001b[37m\u001b[0m \u001b[1m143s\u001b[0m 48ms/step - loss: 7.1829e-05 - val_loss: 3.9824e-07\n",
            "Epoch 10/100\n",
            "\u001b[1m2763/2763\u001b[0m \u001b[32m━━━━━━━━━━━━━━━━━━━━\u001b[0m\u001b[37m\u001b[0m \u001b[1m141s\u001b[0m 48ms/step - loss: 4.0744e-05 - val_loss: 4.6209e-07\n",
            "Epoch 11/100\n",
            "\u001b[1m2763/2763\u001b[0m \u001b[32m━━━━━━━━━━━━━━━━━━━━\u001b[0m\u001b[37m\u001b[0m \u001b[1m143s\u001b[0m 48ms/step - loss: 4.3623e-05 - val_loss: 4.8430e-07\n",
            "Epoch 12/100\n",
            "\u001b[1m2763/2763\u001b[0m \u001b[32m━━━━━━━━━━━━━━━━━━━━\u001b[0m\u001b[37m\u001b[0m \u001b[1m141s\u001b[0m 47ms/step - loss: 3.8655e-05 - val_loss: 5.3440e-07\n",
            "Epoch 13/100\n",
            "\u001b[1m2763/2763\u001b[0m \u001b[32m━━━━━━━━━━━━━━━━━━━━\u001b[0m\u001b[37m\u001b[0m \u001b[1m143s\u001b[0m 48ms/step - loss: 4.5029e-05 - val_loss: 4.2776e-07\n",
            "Epoch 14/100\n",
            "\u001b[1m2763/2763\u001b[0m \u001b[32m━━━━━━━━━━━━━━━━━━━━\u001b[0m\u001b[37m\u001b[0m \u001b[1m132s\u001b[0m 48ms/step - loss: 9.4993e-05 - val_loss: 5.8066e-07\n",
            "Epoch 15/100\n",
            "\u001b[1m2763/2763\u001b[0m \u001b[32m━━━━━━━━━━━━━━━━━━━━\u001b[0m\u001b[37m\u001b[0m \u001b[1m141s\u001b[0m 47ms/step - loss: 5.3324e-05 - val_loss: 6.7113e-07\n",
            "Epoch 16/100\n",
            "\u001b[1m2763/2763\u001b[0m \u001b[32m━━━━━━━━━━━━━━━━━━━━\u001b[0m\u001b[37m\u001b[0m \u001b[1m143s\u001b[0m 48ms/step - loss: 7.4535e-05 - val_loss: 6.5563e-07\n",
            "Epoch 17/100\n",
            "\u001b[1m2763/2763\u001b[0m \u001b[32m━━━━━━━━━━━━━━━━━━━━\u001b[0m\u001b[37m\u001b[0m \u001b[1m141s\u001b[0m 48ms/step - loss: 2.8306e-05 - val_loss: 5.7941e-07\n",
            "Epoch 18/100\n",
            "\u001b[1m2763/2763\u001b[0m \u001b[32m━━━━━━━━━━━━━━━━━━━━\u001b[0m\u001b[37m\u001b[0m \u001b[1m143s\u001b[0m 48ms/step - loss: 8.2532e-06 - val_loss: 1.5846e-06\n",
            "Epoch 19/100\n",
            "\u001b[1m2763/2763\u001b[0m \u001b[32m━━━━━━━━━━━━━━━━━━━━\u001b[0m\u001b[37m\u001b[0m \u001b[1m142s\u001b[0m 48ms/step - loss: 4.6026e-05 - val_loss: 4.3176e-07\n",
            "Epoch 20/100\n",
            "\u001b[1m2763/2763\u001b[0m \u001b[32m━━━━━━━━━━━━━━━━━━━━\u001b[0m\u001b[37m\u001b[0m \u001b[1m141s\u001b[0m 48ms/step - loss: 3.8171e-05 - val_loss: 1.0172e-06\n",
            "Epoch 21/100\n",
            "\u001b[1m2763/2763\u001b[0m \u001b[32m━━━━━━━━━━━━━━━━━━━━\u001b[0m\u001b[37m\u001b[0m \u001b[1m142s\u001b[0m 48ms/step - loss: 2.9407e-05 - val_loss: 2.4098e-06\n",
            "Epoch 22/100\n",
            "\u001b[1m2763/2763\u001b[0m \u001b[32m━━━━━━━━━━━━━━━━━━━━\u001b[0m\u001b[37m\u001b[0m \u001b[1m131s\u001b[0m 48ms/step - loss: 5.2936e-05 - val_loss: 8.2744e-07\n",
            "Epoch 23/100\n",
            "\u001b[1m2763/2763\u001b[0m \u001b[32m━━━━━━━━━━━━━━━━━━━━\u001b[0m\u001b[37m\u001b[0m \u001b[1m132s\u001b[0m 48ms/step - loss: 2.5267e-05 - val_loss: 3.9561e-07\n",
            "Epoch 24/100\n",
            "\u001b[1m2763/2763\u001b[0m \u001b[32m━━━━━━━━━━━━━━━━━━━━\u001b[0m\u001b[37m\u001b[0m \u001b[1m142s\u001b[0m 48ms/step - loss: 6.9218e-05 - val_loss: 5.6014e-07\n",
            "Epoch 25/100\n",
            "\u001b[1m2763/2763\u001b[0m \u001b[32m━━━━━━━━━━━━━━━━━━━━\u001b[0m\u001b[37m\u001b[0m \u001b[1m142s\u001b[0m 48ms/step - loss: 3.9782e-05 - val_loss: 4.1219e-07\n",
            "Epoch 26/100\n",
            "\u001b[1m2763/2763\u001b[0m \u001b[32m━━━━━━━━━━━━━━━━━━━━\u001b[0m\u001b[37m\u001b[0m \u001b[1m142s\u001b[0m 48ms/step - loss: 8.5855e-06 - val_loss: 5.3304e-05\n",
            "Epoch 27/100\n",
            "\u001b[1m2763/2763\u001b[0m \u001b[32m━━━━━━━━━━━━━━━━━━━━\u001b[0m\u001b[37m\u001b[0m \u001b[1m142s\u001b[0m 48ms/step - loss: 4.0760e-05 - val_loss: 6.7926e-07\n",
            "Epoch 28/100\n",
            "\u001b[1m2763/2763\u001b[0m \u001b[32m━━━━━━━━━━━━━━━━━━━━\u001b[0m\u001b[37m\u001b[0m \u001b[1m141s\u001b[0m 48ms/step - loss: 2.8738e-05 - val_loss: 3.7667e-07\n",
            "Epoch 29/100\n",
            "\u001b[1m2763/2763\u001b[0m \u001b[32m━━━━━━━━━━━━━━━━━━━━\u001b[0m\u001b[37m\u001b[0m \u001b[1m133s\u001b[0m 48ms/step - loss: 5.7153e-05 - val_loss: 8.7431e-07\n",
            "Epoch 30/100\n",
            "\u001b[1m2763/2763\u001b[0m \u001b[32m━━━━━━━━━━━━━━━━━━━━\u001b[0m\u001b[37m\u001b[0m \u001b[1m142s\u001b[0m 48ms/step - loss: 2.2539e-05 - val_loss: 4.4292e-07\n",
            "Epoch 31/100\n",
            "\u001b[1m2763/2763\u001b[0m \u001b[32m━━━━━━━━━━━━━━━━━━━━\u001b[0m\u001b[37m\u001b[0m \u001b[1m142s\u001b[0m 49ms/step - loss: 3.5891e-05 - val_loss: 3.6796e-07\n",
            "Epoch 32/100\n",
            "\u001b[1m2763/2763\u001b[0m \u001b[32m━━━━━━━━━━━━━━━━━━━━\u001b[0m\u001b[37m\u001b[0m \u001b[1m134s\u001b[0m 48ms/step - loss: 2.1452e-05 - val_loss: 5.0416e-07\n",
            "Epoch 33/100\n",
            "\u001b[1m2763/2763\u001b[0m \u001b[32m━━━━━━━━━━━━━━━━━━━━\u001b[0m\u001b[37m\u001b[0m \u001b[1m141s\u001b[0m 48ms/step - loss: 2.7406e-05 - val_loss: 3.8611e-07\n",
            "Epoch 34/100\n",
            "\u001b[1m2763/2763\u001b[0m \u001b[32m━━━━━━━━━━━━━━━━━━━━\u001b[0m\u001b[37m\u001b[0m \u001b[1m134s\u001b[0m 49ms/step - loss: 9.3729e-05 - val_loss: 4.8855e-07\n",
            "Epoch 35/100\n",
            "\u001b[1m2763/2763\u001b[0m \u001b[32m━━━━━━━━━━━━━━━━━━━━\u001b[0m\u001b[37m\u001b[0m \u001b[1m133s\u001b[0m 48ms/step - loss: 2.4898e-05 - val_loss: 9.0689e-07\n",
            "Epoch 36/100\n",
            "\u001b[1m2763/2763\u001b[0m \u001b[32m━━━━━━━━━━━━━━━━━━━━\u001b[0m\u001b[37m\u001b[0m \u001b[1m143s\u001b[0m 49ms/step - loss: 4.7368e-05 - val_loss: 3.6500e-07\n",
            "Epoch 37/100\n",
            "\u001b[1m2763/2763\u001b[0m \u001b[32m━━━━━━━━━━━━━━━━━━━━\u001b[0m\u001b[37m\u001b[0m \u001b[1m142s\u001b[0m 49ms/step - loss: 3.7692e-05 - val_loss: 7.7793e-07\n",
            "Epoch 38/100\n",
            "\u001b[1m2763/2763\u001b[0m \u001b[32m━━━━━━━━━━━━━━━━━━━━\u001b[0m\u001b[37m\u001b[0m \u001b[1m142s\u001b[0m 49ms/step - loss: 4.3567e-05 - val_loss: 3.7733e-07\n",
            "Epoch 39/100\n",
            "\u001b[1m2763/2763\u001b[0m \u001b[32m━━━━━━━━━━━━━━━━━━━━\u001b[0m\u001b[37m\u001b[0m \u001b[1m178s\u001b[0m 62ms/step - loss: 6.5068e-05 - val_loss: 5.7121e-07\n",
            "Epoch 40/100\n",
            "\u001b[1m2763/2763\u001b[0m \u001b[32m━━━━━━━━━━━━━━━━━━━━\u001b[0m\u001b[37m\u001b[0m \u001b[1m134s\u001b[0m 48ms/step - loss: 3.3474e-05 - val_loss: 1.2102e-05\n",
            "Epoch 41/100\n",
            "\u001b[1m2763/2763\u001b[0m \u001b[32m━━━━━━━━━━━━━━━━━━━━\u001b[0m\u001b[37m\u001b[0m \u001b[1m142s\u001b[0m 49ms/step - loss: 3.7231e-05 - val_loss: 8.8975e-07\n",
            "Epoch 42/100\n",
            "\u001b[1m2763/2763\u001b[0m \u001b[32m━━━━━━━━━━━━━━━━━━━━\u001b[0m\u001b[37m\u001b[0m \u001b[1m140s\u001b[0m 48ms/step - loss: 2.1393e-05 - val_loss: 5.1254e-07\n",
            "Epoch 43/100\n",
            "\u001b[1m2763/2763\u001b[0m \u001b[32m━━━━━━━━━━━━━━━━━━━━\u001b[0m\u001b[37m\u001b[0m \u001b[1m133s\u001b[0m 48ms/step - loss: 8.1831e-05 - val_loss: 9.6466e-07\n",
            "Epoch 44/100\n",
            "\u001b[1m2763/2763\u001b[0m \u001b[32m━━━━━━━━━━━━━━━━━━━━\u001b[0m\u001b[37m\u001b[0m \u001b[1m134s\u001b[0m 48ms/step - loss: 5.3227e-05 - val_loss: 4.6809e-07\n",
            "Epoch 45/100\n",
            "\u001b[1m2763/2763\u001b[0m \u001b[32m━━━━━━━━━━━━━━━━━━━━\u001b[0m\u001b[37m\u001b[0m \u001b[1m141s\u001b[0m 48ms/step - loss: 4.0427e-05 - val_loss: 3.5754e-07\n",
            "Epoch 46/100\n",
            "\u001b[1m2763/2763\u001b[0m \u001b[32m━━━━━━━━━━━━━━━━━━━━\u001b[0m\u001b[37m\u001b[0m \u001b[1m144s\u001b[0m 49ms/step - loss: 9.6250e-05 - val_loss: 3.5810e-07\n",
            "Epoch 47/100\n",
            "\u001b[1m2763/2763\u001b[0m \u001b[32m━━━━━━━━━━━━━━━━━━━━\u001b[0m\u001b[37m\u001b[0m \u001b[1m141s\u001b[0m 49ms/step - loss: 2.2481e-05 - val_loss: 3.9748e-07\n",
            "Epoch 48/100\n",
            "\u001b[1m2763/2763\u001b[0m \u001b[32m━━━━━━━━━━━━━━━━━━━━\u001b[0m\u001b[37m\u001b[0m \u001b[1m141s\u001b[0m 48ms/step - loss: 4.5083e-05 - val_loss: 3.7510e-07\n",
            "Epoch 49/100\n",
            "\u001b[1m2763/2763\u001b[0m \u001b[32m━━━━━━━━━━━━━━━━━━━━\u001b[0m\u001b[37m\u001b[0m \u001b[1m134s\u001b[0m 49ms/step - loss: 2.6752e-05 - val_loss: 3.5516e-07\n",
            "Epoch 50/100\n",
            "\u001b[1m2763/2763\u001b[0m \u001b[32m━━━━━━━━━━━━━━━━━━━━\u001b[0m\u001b[37m\u001b[0m \u001b[1m133s\u001b[0m 48ms/step - loss: 7.4767e-05 - val_loss: 4.1658e-07\n",
            "Epoch 51/100\n",
            "\u001b[1m2763/2763\u001b[0m \u001b[32m━━━━━━━━━━━━━━━━━━━━\u001b[0m\u001b[37m\u001b[0m \u001b[1m142s\u001b[0m 48ms/step - loss: 9.3727e-05 - val_loss: 4.2684e-07\n",
            "Epoch 52/100\n",
            "\u001b[1m2763/2763\u001b[0m \u001b[32m━━━━━━━━━━━━━━━━━━━━\u001b[0m\u001b[37m\u001b[0m \u001b[1m144s\u001b[0m 49ms/step - loss: 3.7360e-05 - val_loss: 3.7447e-07\n",
            "Epoch 53/100\n",
            "\u001b[1m2763/2763\u001b[0m \u001b[32m━━━━━━━━━━━━━━━━━━━━\u001b[0m\u001b[37m\u001b[0m \u001b[1m134s\u001b[0m 48ms/step - loss: 5.5131e-05 - val_loss: 1.6817e-06\n",
            "Epoch 54/100\n",
            "\u001b[1m2763/2763\u001b[0m \u001b[32m━━━━━━━━━━━━━━━━━━━━\u001b[0m\u001b[37m\u001b[0m \u001b[1m143s\u001b[0m 49ms/step - loss: 2.8619e-05 - val_loss: 6.6546e-07\n",
            "Epoch 55/100\n",
            "\u001b[1m2763/2763\u001b[0m \u001b[32m━━━━━━━━━━━━━━━━━━━━\u001b[0m\u001b[37m\u001b[0m \u001b[1m134s\u001b[0m 48ms/step - loss: 3.1120e-05 - val_loss: 3.5486e-07\n",
            "Epoch 56/100\n",
            "\u001b[1m2763/2763\u001b[0m \u001b[32m━━━━━━━━━━━━━━━━━━━━\u001b[0m\u001b[37m\u001b[0m \u001b[1m143s\u001b[0m 49ms/step - loss: 4.1764e-05 - val_loss: 3.9365e-07\n",
            "Epoch 57/100\n",
            "\u001b[1m2763/2763\u001b[0m \u001b[32m━━━━━━━━━━━━━━━━━━━━\u001b[0m\u001b[37m\u001b[0m \u001b[1m141s\u001b[0m 48ms/step - loss: 8.0595e-05 - val_loss: 3.6844e-07\n",
            "Epoch 58/100\n",
            "\u001b[1m2763/2763\u001b[0m \u001b[32m━━━━━━━━━━━━━━━━━━━━\u001b[0m\u001b[37m\u001b[0m \u001b[1m133s\u001b[0m 48ms/step - loss: 3.6652e-05 - val_loss: 4.6155e-07\n",
            "Epoch 59/100\n",
            "\u001b[1m2763/2763\u001b[0m \u001b[32m━━━━━━━━━━━━━━━━━━━━\u001b[0m\u001b[37m\u001b[0m \u001b[1m135s\u001b[0m 49ms/step - loss: 5.6812e-05 - val_loss: 3.8684e-07\n",
            "Epoch 60/100\n",
            "\u001b[1m2763/2763\u001b[0m \u001b[32m━━━━━━━━━━━━━━━━━━━━\u001b[0m\u001b[37m\u001b[0m \u001b[1m134s\u001b[0m 49ms/step - loss: 6.2726e-05 - val_loss: 5.5790e-07\n",
            "Epoch 61/100\n",
            "\u001b[1m2763/2763\u001b[0m \u001b[32m━━━━━━━━━━━━━━━━━━━━\u001b[0m\u001b[37m\u001b[0m \u001b[1m133s\u001b[0m 48ms/step - loss: 4.9456e-05 - val_loss: 4.1971e-07\n",
            "Epoch 62/100\n",
            "\u001b[1m2763/2763\u001b[0m \u001b[32m━━━━━━━━━━━━━━━━━━━━\u001b[0m\u001b[37m\u001b[0m \u001b[1m142s\u001b[0m 48ms/step - loss: 6.8497e-05 - val_loss: 5.1559e-07\n",
            "Epoch 63/100\n",
            "\u001b[1m2763/2763\u001b[0m \u001b[32m━━━━━━━━━━━━━━━━━━━━\u001b[0m\u001b[37m\u001b[0m \u001b[1m143s\u001b[0m 49ms/step - loss: 1.8365e-05 - val_loss: 1.0387e-06\n",
            "Epoch 64/100\n",
            "\u001b[1m2763/2763\u001b[0m \u001b[32m━━━━━━━━━━━━━━━━━━━━\u001b[0m\u001b[37m\u001b[0m \u001b[1m142s\u001b[0m 49ms/step - loss: 4.1200e-05 - val_loss: 9.6150e-07\n",
            "Epoch 65/100\n",
            "\u001b[1m2763/2763\u001b[0m \u001b[32m━━━━━━━━━━━━━━━━━━━━\u001b[0m\u001b[37m\u001b[0m \u001b[1m142s\u001b[0m 49ms/step - loss: 4.9267e-05 - val_loss: 1.7228e-06\n",
            "Epoch 66/100\n",
            "\u001b[1m2763/2763\u001b[0m \u001b[32m━━━━━━━━━━━━━━━━━━━━\u001b[0m\u001b[37m\u001b[0m \u001b[1m134s\u001b[0m 48ms/step - loss: 3.9977e-05 - val_loss: 9.9764e-07\n",
            "Epoch 67/100\n",
            "\u001b[1m2763/2763\u001b[0m \u001b[32m━━━━━━━━━━━━━━━━━━━━\u001b[0m\u001b[37m\u001b[0m \u001b[1m143s\u001b[0m 49ms/step - loss: 1.1594e-04 - val_loss: 6.0944e-07\n",
            "Epoch 68/100\n",
            "\u001b[1m2763/2763\u001b[0m \u001b[32m━━━━━━━━━━━━━━━━━━━━\u001b[0m\u001b[37m\u001b[0m \u001b[1m135s\u001b[0m 49ms/step - loss: 4.4848e-05 - val_loss: 3.6438e-07\n",
            "Epoch 69/100\n",
            "\u001b[1m2763/2763\u001b[0m \u001b[32m━━━━━━━━━━━━━━━━━━━━\u001b[0m\u001b[37m\u001b[0m \u001b[1m141s\u001b[0m 48ms/step - loss: 5.4084e-05 - val_loss: 4.3764e-07\n",
            "Epoch 70/100\n",
            "\u001b[1m2763/2763\u001b[0m \u001b[32m━━━━━━━━━━━━━━━━━━━━\u001b[0m\u001b[37m\u001b[0m \u001b[1m143s\u001b[0m 49ms/step - loss: 4.2649e-05 - val_loss: 1.2127e-06\n",
            "Epoch 71/100\n",
            "\u001b[1m2763/2763\u001b[0m \u001b[32m━━━━━━━━━━━━━━━━━━━━\u001b[0m\u001b[37m\u001b[0m \u001b[1m135s\u001b[0m 49ms/step - loss: 7.2418e-05 - val_loss: 4.9247e-07\n",
            "Epoch 72/100\n",
            "\u001b[1m2763/2763\u001b[0m \u001b[32m━━━━━━━━━━━━━━━━━━━━\u001b[0m\u001b[37m\u001b[0m \u001b[1m142s\u001b[0m 49ms/step - loss: 8.5057e-05 - val_loss: 6.9043e-07\n",
            "Epoch 73/100\n",
            "\u001b[1m2763/2763\u001b[0m \u001b[32m━━━━━━━━━━━━━━━━━━━━\u001b[0m\u001b[37m\u001b[0m \u001b[1m134s\u001b[0m 49ms/step - loss: 3.7787e-05 - val_loss: 1.3095e-06\n",
            "Epoch 74/100\n",
            "\u001b[1m2763/2763\u001b[0m \u001b[32m━━━━━━━━━━━━━━━━━━━━\u001b[0m\u001b[37m\u001b[0m \u001b[1m143s\u001b[0m 49ms/step - loss: 4.1740e-05 - val_loss: 3.8440e-07\n",
            "Epoch 75/100\n",
            "\u001b[1m2763/2763\u001b[0m \u001b[32m━━━━━━━━━━━━━━━━━━━━\u001b[0m\u001b[37m\u001b[0m \u001b[1m140s\u001b[0m 48ms/step - loss: 5.6530e-05 - val_loss: 4.0914e-07\n",
            "Epoch 76/100\n",
            "\u001b[1m2763/2763\u001b[0m \u001b[32m━━━━━━━━━━━━━━━━━━━━\u001b[0m\u001b[37m\u001b[0m \u001b[1m143s\u001b[0m 49ms/step - loss: 6.8338e-05 - val_loss: 4.3747e-07\n",
            "Epoch 77/100\n",
            "\u001b[1m2763/2763\u001b[0m \u001b[32m━━━━━━━━━━━━━━━━━━━━\u001b[0m\u001b[37m\u001b[0m \u001b[1m135s\u001b[0m 49ms/step - loss: 1.5120e-05 - val_loss: 4.2896e-07\n",
            "Epoch 78/100\n",
            "\u001b[1m2763/2763\u001b[0m \u001b[32m━━━━━━━━━━━━━━━━━━━━\u001b[0m\u001b[37m\u001b[0m \u001b[1m135s\u001b[0m 49ms/step - loss: 5.1876e-05 - val_loss: 5.5410e-07\n",
            "Epoch 79/100\n",
            "\u001b[1m2763/2763\u001b[0m \u001b[32m━━━━━━━━━━━━━━━━━━━━\u001b[0m\u001b[37m\u001b[0m \u001b[1m143s\u001b[0m 49ms/step - loss: 3.0112e-05 - val_loss: 5.8689e-07\n",
            "Epoch 80/100\n",
            "\u001b[1m2763/2763\u001b[0m \u001b[32m━━━━━━━━━━━━━━━━━━━━\u001b[0m\u001b[37m\u001b[0m \u001b[1m135s\u001b[0m 49ms/step - loss: 3.8282e-05 - val_loss: 3.5249e-07\n",
            "Epoch 81/100\n",
            "\u001b[1m2763/2763\u001b[0m \u001b[32m━━━━━━━━━━━━━━━━━━━━\u001b[0m\u001b[37m\u001b[0m \u001b[1m142s\u001b[0m 49ms/step - loss: 4.9533e-05 - val_loss: 7.5736e-07\n",
            "Epoch 82/100\n",
            "\u001b[1m2763/2763\u001b[0m \u001b[32m━━━━━━━━━━━━━━━━━━━━\u001b[0m\u001b[37m\u001b[0m \u001b[1m142s\u001b[0m 49ms/step - loss: 4.3987e-05 - val_loss: 1.7104e-06\n",
            "Epoch 83/100\n",
            "\u001b[1m2763/2763\u001b[0m \u001b[32m━━━━━━━━━━━━━━━━━━━━\u001b[0m\u001b[37m\u001b[0m \u001b[1m142s\u001b[0m 49ms/step - loss: 9.8330e-05 - val_loss: 6.9362e-07\n",
            "Epoch 84/100\n",
            "\u001b[1m2763/2763\u001b[0m \u001b[32m━━━━━━━━━━━━━━━━━━━━\u001b[0m\u001b[37m\u001b[0m \u001b[1m134s\u001b[0m 49ms/step - loss: 6.4249e-05 - val_loss: 1.6302e-06\n",
            "Epoch 85/100\n",
            "\u001b[1m2763/2763\u001b[0m \u001b[32m━━━━━━━━━━━━━━━━━━━━\u001b[0m\u001b[37m\u001b[0m \u001b[1m143s\u001b[0m 49ms/step - loss: 5.0205e-05 - val_loss: 3.8042e-07\n",
            "Epoch 86/100\n",
            "\u001b[1m2763/2763\u001b[0m \u001b[32m━━━━━━━━━━━━━━━━━━━━\u001b[0m\u001b[37m\u001b[0m \u001b[1m140s\u001b[0m 48ms/step - loss: 8.6276e-05 - val_loss: 1.0371e-04\n",
            "Epoch 87/100\n",
            "\u001b[1m2763/2763\u001b[0m \u001b[32m━━━━━━━━━━━━━━━━━━━━\u001b[0m\u001b[37m\u001b[0m \u001b[1m142s\u001b[0m 49ms/step - loss: 6.2203e-05 - val_loss: 4.6257e-07\n",
            "Epoch 88/100\n",
            "\u001b[1m2763/2763\u001b[0m \u001b[32m━━━━━━━━━━━━━━━━━━━━\u001b[0m\u001b[37m\u001b[0m \u001b[1m142s\u001b[0m 49ms/step - loss: 1.7993e-05 - val_loss: 6.6310e-07\n",
            "Epoch 89/100\n",
            "\u001b[1m2763/2763\u001b[0m \u001b[32m━━━━━━━━━━━━━━━━━━━━\u001b[0m\u001b[37m\u001b[0m \u001b[1m143s\u001b[0m 49ms/step - loss: 5.5659e-05 - val_loss: 4.7507e-07\n",
            "Epoch 90/100\n",
            "\u001b[1m2763/2763\u001b[0m \u001b[32m━━━━━━━━━━━━━━━━━━━━\u001b[0m\u001b[37m\u001b[0m \u001b[1m142s\u001b[0m 49ms/step - loss: 4.2086e-05 - val_loss: 1.3622e-06\n",
            "Epoch 91/100\n",
            "\u001b[1m2763/2763\u001b[0m \u001b[32m━━━━━━━━━━━━━━━━━━━━\u001b[0m\u001b[37m\u001b[0m \u001b[1m142s\u001b[0m 49ms/step - loss: 4.5790e-05 - val_loss: 3.9049e-07\n",
            "Epoch 92/100\n",
            "\u001b[1m2763/2763\u001b[0m \u001b[32m━━━━━━━━━━━━━━━━━━━━\u001b[0m\u001b[37m\u001b[0m \u001b[1m140s\u001b[0m 49ms/step - loss: 9.8811e-05 - val_loss: 6.7398e-07\n",
            "Epoch 93/100\n",
            "\u001b[1m2763/2763\u001b[0m \u001b[32m━━━━━━━━━━━━━━━━━━━━\u001b[0m\u001b[37m\u001b[0m \u001b[1m143s\u001b[0m 49ms/step - loss: 2.4311e-05 - val_loss: 3.6034e-07\n",
            "Epoch 94/100\n",
            "\u001b[1m2763/2763\u001b[0m \u001b[32m━━━━━━━━━━━━━━━━━━━━\u001b[0m\u001b[37m\u001b[0m \u001b[1m135s\u001b[0m 49ms/step - loss: 4.8037e-05 - val_loss: 4.7263e-07\n",
            "Epoch 95/100\n",
            "\u001b[1m2763/2763\u001b[0m \u001b[32m━━━━━━━━━━━━━━━━━━━━\u001b[0m\u001b[37m\u001b[0m \u001b[1m136s\u001b[0m 49ms/step - loss: 3.0806e-05 - val_loss: 3.7937e-07\n",
            "Epoch 96/100\n",
            "\u001b[1m2763/2763\u001b[0m \u001b[32m━━━━━━━━━━━━━━━━━━━━\u001b[0m\u001b[37m\u001b[0m \u001b[1m134s\u001b[0m 49ms/step - loss: 5.0303e-05 - val_loss: 6.0511e-07\n",
            "Epoch 97/100\n",
            "\u001b[1m2763/2763\u001b[0m \u001b[32m━━━━━━━━━━━━━━━━━━━━\u001b[0m\u001b[37m\u001b[0m \u001b[1m134s\u001b[0m 49ms/step - loss: 3.3947e-05 - val_loss: 6.2612e-07\n",
            "Epoch 98/100\n",
            "\u001b[1m2763/2763\u001b[0m \u001b[32m━━━━━━━━━━━━━━━━━━━━\u001b[0m\u001b[37m\u001b[0m \u001b[1m135s\u001b[0m 49ms/step - loss: 3.5514e-05 - val_loss: 4.3437e-07\n",
            "Epoch 99/100\n",
            "\u001b[1m2763/2763\u001b[0m \u001b[32m━━━━━━━━━━━━━━━━━━━━\u001b[0m\u001b[37m\u001b[0m \u001b[1m141s\u001b[0m 49ms/step - loss: 9.1657e-05 - val_loss: 5.4875e-07\n",
            "Epoch 100/100\n",
            "\u001b[1m2763/2763\u001b[0m \u001b[32m━━━━━━━━━━━━━━━━━━━━\u001b[0m\u001b[37m\u001b[0m \u001b[1m142s\u001b[0m 49ms/step - loss: 2.4383e-05 - val_loss: 5.1059e-07\n",
            "Model training complete.\n"
          ]
        }
      ]
    },
    {
      "cell_type": "code",
      "source": [
        "from sklearn.metrics import mean_squared_error\n",
        "import matplotlib.pyplot as plt\n",
        "\n",
        "# Make predictions on the test data\n",
        "predicted_scaled = model.predict(X_test)\n",
        "\n",
        "# Inverse transform the predictions and actual values\n",
        "predicted = scaler.inverse_transform(predicted_scaled)\n",
        "actual = scaler.inverse_transform(y_test)\n",
        "\n",
        "# Calculate the Mean Squared Error\n",
        "mse = mean_squared_error(actual, predicted)\n",
        "print(f'Mean Squared Error on the test set: {mse:.4f}')\n",
        "\n",
        "# Visualize the results\n",
        "plt.figure(figsize=(12, 6))\n",
        "plt.plot(actual, label='Actual Values')\n",
        "plt.plot(predicted, label='Predicted Values')\n",
        "plt.title('Actual vs. Predicted Values')\n",
        "plt.xlabel('Time Steps')\n",
        "plt.ylabel('Overall Rating')\n",
        "plt.legend()\n",
        "plt.show()"
      ],
      "metadata": {
        "id": "bekvbOyrJC_C",
        "outputId": "73cb1217-504a-4e86-8982-05fd598f6ea5",
        "colab": {
          "base_uri": "https://localhost:8080/",
          "height": 598
        }
      },
      "execution_count": null,
      "outputs": [
        {
          "output_type": "stream",
          "name": "stdout",
          "text": [
            "\u001b[1m768/768\u001b[0m \u001b[32m━━━━━━━━━━━━━━━━━━━━\u001b[0m\u001b[37m\u001b[0m \u001b[1m12s\u001b[0m 15ms/step\n",
            "Mean Squared Error on the test set: 0.0850\n"
          ]
        },
        {
          "output_type": "display_data",
          "data": {
            "text/plain": [
              "<Figure size 1200x600 with 1 Axes>"
            ],
            "image/png": "[encoded data removed]"
          },
          "metadata": {}
        }
      ]
    }
  ],
  "metadata": {
    "colab": {
      "provenance": []
    },
    "kernelspec": {
      "display_name": "Python 3",
      "name": "python3"
    }
  },
  "nbformat": 4,
  "nbformat_minor": 0
}